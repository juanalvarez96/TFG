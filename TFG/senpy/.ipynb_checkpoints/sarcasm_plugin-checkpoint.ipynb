{
 "cells": [
  {
   "cell_type": "code",
   "execution_count": 41,
   "metadata": {},
   "outputs": [],
   "source": [
    "# This is a necessary import for importing the classifier. The code belongs to the classifier.ipynb notebook.\n",
    "from nltk.tokenize import sent_tokenize, word_tokenize\n",
    "from nltk.stem import SnowballStemmer\n",
    "from nltk.corpus import stopwords\n",
    "import pickle"
   ]
  },
  {
   "cell_type": "code",
   "execution_count": 42,
   "metadata": {},
   "outputs": [
    {
     "name": "stderr",
     "output_type": "stream",
     "text": [
      "WARNING:senpy.plugins:Overloading plugin class: SentimentPlugin\n"
     ]
    }
   ],
   "source": [
    "#UTIL\n",
    "#https://senpy.readthedocs.io/en/latest/plugins.html#docker-image\n",
    "class SentimentPlugin(AnalysisPlugin):\n",
    "    '''Plugin to detetct sarcasm'''\n",
    "    author = \"Juan Álvarez Fernández del Vallado\"\n",
    "    version = 1\n",
    "    \n",
    "    # Load classifier\n",
    "    def activate(self):\n",
    "        def custom_tokenizer(words):\n",
    "            tokens = word_tokenize(words.lower())\n",
    "            stemmer = SnowballStemmer('spanish')\n",
    "            lemmas = [stemmer.stem(t) for t in tokens]\n",
    "            stoplist = stopwords.words('spanish')\n",
    "            lemmas_clean = [w for w in lemmas if w not in stoplist]\n",
    "            punctuation = set(string.punctuation)\n",
    "            lemmas_punct = [w for w in lemmas_clean if  w not in punctuation]\n",
    "            return lemmas_punct\n",
    "        \n",
    "        # Import classifier\n",
    "        filename = 'optimized_classifier.pkl'\n",
    "        svm_model_pkl = open(filename, 'rb')\n",
    "        self.classifier = pickle.load(svm_model_pkl)\n",
    "    \n",
    "    def analyse_entry(entry, params):\n",
    "        \n",
    "        text = entry[\"nif:isString\"]\n",
    "        \n",
    "        print(text+\"Traza\")\n",
    "        \n",
    "        value = modelSVM.predict(text[0])\n",
    "        \n",
    "        print(\"PREDICTION {}\".format(prediction))\n",
    "        if (prediction == 1):\n",
    "            is_ironic = True\n",
    "        else:\n",
    "            is_ironic = False\n",
    "        entity = {'text':text,'is_ironic':is_ironic}\n",
    "\n",
    "\n",
    "        #No poner en foaf:predator por que foaf predator no existe como etiqueda dentro de la ontologia foaf\n",
    "        #entity = {'@id':'Entity0','text':text,'is_insomniac':is_insomniac}\n",
    "\n",
    "        #,'foaf:accountName':params['input'],'prov:wasGeneratedBy':self.id}\n",
    "\n",
    "        #entry.entities = []\n",
    "        #entry.entities.append(entity)        \n",
    "        #yield entry\n",
    "        yield entity\n",
    "    \n",
    "    def deactivate(self):\n",
    "        self.close()\n",
    "        \n",
    "        "
   ]
  },
  {
   "cell_type": "code",
   "execution_count": null,
   "metadata": {},
   "outputs": [],
   "source": []
  },
  {
   "cell_type": "code",
   "execution_count": null,
   "metadata": {},
   "outputs": [],
   "source": []
  }
 ],
 "metadata": {
  "kernelspec": {
   "display_name": "Python 3",
   "language": "python",
   "name": "python3"
  },
  "language_info": {
   "codemirror_mode": {
    "name": "ipython",
    "version": 3
   },
   "file_extension": ".py",
   "mimetype": "text/x-python",
   "name": "python",
   "nbconvert_exporter": "python",
   "pygments_lexer": "ipython3",
   "version": "3.5.5"
  }
 },
 "nbformat": 4,
 "nbformat_minor": 2
}
