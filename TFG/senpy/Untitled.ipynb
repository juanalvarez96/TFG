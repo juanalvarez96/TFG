{
 "cells": [
  {
   "cell_type": "code",
   "execution_count": null,
   "metadata": {},
   "outputs": [],
   "source": []
  },
  {
   "cell_type": "code",
   "execution_count": null,
   "metadata": {},
   "outputs": [
    {
     "name": "stdout",
     "output_type": "stream",
     "text": [
      "[nltk_data] Downloading package punkt to\n",
      "[nltk_data]     /Users/juanalvarez/nltk_data...\n",
      "[nltk_data]   Package punkt is already up-to-date!\n",
      "[nltk_data] Downloading package stopwords to\n",
      "[nltk_data]     /Users/juanalvarez/nltk_data...\n",
      "[nltk_data]   Package stopwords is already up-to-date!\n",
      "Size of training set: 8311   size of test set: 2771\n",
      "             precision    recall  f1-score   support\n",
      "\n",
      "          0    0.86477   0.89536   0.87980      1357\n",
      "          1    0.89605   0.86563   0.88058      1414\n",
      "\n",
      "avg / total    0.88073   0.88019   0.88019      2771\n",
      "\n",
      "             precision    recall  f1-score   support\n",
      "\n",
      "          0    0.92371   0.91010   0.91685      1357\n",
      "          1    0.91492   0.92786   0.92135      1414\n",
      "\n",
      "avg / total    0.91923   0.91916   0.91915      2771\n",
      "\n"
     ]
    },
    {
     "name": "stderr",
     "output_type": "stream",
     "text": [
      "/anaconda3/lib/python3.5/site-packages/sklearn/neighbors/base.py:212: UserWarning: cannot use tree with sparse input: using brute force\n",
      "  warnings.warn(\"cannot use tree with sparse input: \"\n"
     ]
    },
    {
     "name": "stdout",
     "output_type": "stream",
     "text": [
      "             precision    recall  f1-score   support\n",
      "\n",
      "          0    0.65454   0.88799   0.75360      1357\n",
      "          1    0.83656   0.55021   0.66382      1414\n",
      "\n",
      "avg / total    0.74742   0.71563   0.70779      2771\n",
      "\n"
     ]
    },
    {
     "name": "stderr",
     "output_type": "stream",
     "text": [
      "/anaconda3/lib/python3.5/site-packages/sklearn/linear_model/logistic.py:1228: UserWarning: 'n_jobs' > 1 does not have any effect when 'solver' is set to 'liblinear'. Got 'n_jobs' = -1.\n",
      "  \" = {}.\".format(self.n_jobs))\n"
     ]
    },
    {
     "name": "stdout",
     "output_type": "stream",
     "text": [
      "             precision    recall  f1-score   support\n",
      "\n",
      "          0    0.91574   0.91304   0.91439      1357\n",
      "          1    0.91678   0.91938   0.91808      1414\n",
      "\n",
      "avg / total    0.91627   0.91628   0.91627      2771\n",
      "\n",
      "# Tuning hyper-parameters for precision\n",
      "\n"
     ]
    }
   ],
   "source": [
    "from senpy import easy_test, models, plugins, SentimentBox, MappingMixin, AnalysisPlugin, easy\n",
    "from sys import path\n",
    "path.append('../')\n",
    "import classifier\n"
   ]
  },
  {
   "cell_type": "code",
   "execution_count": null,
   "metadata": {},
   "outputs": [],
   "source": []
  },
  {
   "cell_type": "code",
   "execution_count": null,
   "metadata": {},
   "outputs": [],
   "source": []
  }
 ],
 "metadata": {
  "kernelspec": {
   "display_name": "Python 3",
   "language": "python",
   "name": "python3"
  },
  "language_info": {
   "codemirror_mode": {
    "name": "ipython",
    "version": 3
   },
   "file_extension": ".py",
   "mimetype": "text/x-python",
   "name": "python",
   "nbconvert_exporter": "python",
   "pygments_lexer": "ipython3",
   "version": "3.5.5"
  }
 },
 "nbformat": 4,
 "nbformat_minor": 2
}
