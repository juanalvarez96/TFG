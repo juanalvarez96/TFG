{
 "cells": [
  {
   "cell_type": "code",
   "execution_count": 62,
   "metadata": {},
   "outputs": [],
   "source": [
    "from elasticsearch import  Elasticsearch\n",
    "from datetime import datetime\n",
    "import chilkat\n",
    "import pandas\n",
    "# Details about ES: http://nitin-panwar.github.io/Elasticsearch-tutorial-for-beginners-using-Python/"
   ]
  },
  {
   "cell_type": "code",
   "execution_count": 63,
   "metadata": {},
   "outputs": [],
   "source": [
    "es = Elasticsearch()"
   ]
  },
  {
   "cell_type": "code",
   "execution_count": 71,
   "metadata": {},
   "outputs": [
    {
     "name": "stdout",
     "output_type": "stream",
     "text": [
      "tweet     {'0': 'Hoy el dia se presenta movido, y empiez...\n",
      "ironic    {'0': 0, '1': 1, '2': 0, '3': 0, '4': 1, '5': ...\n",
      "dtype: object\n"
     ]
    }
   ],
   "source": [
    "df = pandas.read_csv('final_dataset.csv')\n",
    "df = df.sample(frac=1).reset_index(drop=True)\n",
    "df.to_json('final_dataset.json')\n",
    "dfj=pandas.read_json('final_dataset.json', typ='series')"
   ]
  },
  {
   "cell_type": "code",
   "execution_count": 91,
   "metadata": {},
   "outputs": [],
   "source": [
    "tweets = dfj[0]\n",
    "sentiments = dfj[1]\n",
    "docs = []\n",
    "i=0\n",
    "for key, tweet in tweets.items():\n",
    "    i=i+1\n",
    "    #for key1, sentiment in sentiments.items():\n",
    "    tmp= {\n",
    "\n",
    "        'Tweet':tweet,\n",
    "        'Sentiment': sentiments.get(str(i))\n",
    "    }\n",
    "    docs.append(tmp)\n",
    "    \n"
   ]
  },
  {
   "cell_type": "code",
   "execution_count": 92,
   "metadata": {},
   "outputs": [
    {
     "name": "stdout",
     "output_type": "stream",
     "text": [
      "11084\n"
     ]
    }
   ],
   "source": [
    "print(len(docs))"
   ]
  },
  {
   "cell_type": "code",
   "execution_count": 80,
   "metadata": {},
   "outputs": [],
   "source": [
    "for i in range (0, len(docs)):\n",
    "    res = es.index(index = 'twitter', doc_type='tweets', id=i, body=docs[i])\n"
   ]
  },
  {
   "cell_type": "code",
   "execution_count": 95,
   "metadata": {},
   "outputs": [],
   "source": [
    "res = es.get(index='twitter', doc_type='tweets', id = 56)"
   ]
  },
  {
   "cell_type": "code",
   "execution_count": 96,
   "metadata": {},
   "outputs": [
    {
     "name": "stdout",
     "output_type": "stream",
     "text": [
      "{'_index': 'twitter', '_type': 'tweets', '_id': '56', '_version': 1, 'found': True, '_source': {'Tweet': 'Como El Cielo Y El Infierno 🎶😏💋 \\n#mana #ironia #camaincendiada #AB #AG https://t.co/cFpx9RVVwQ', 'Sentiment': 1}}\n"
     ]
    }
   ],
   "source": [
    "print (res)"
   ]
  },
  {
   "cell_type": "code",
   "execution_count": null,
   "metadata": {},
   "outputs": [],
   "source": []
  }
 ],
 "metadata": {
  "kernelspec": {
   "display_name": "Python 3",
   "language": "python",
   "name": "python3"
  },
  "language_info": {
   "codemirror_mode": {
    "name": "ipython",
    "version": 3
   },
   "file_extension": ".py",
   "mimetype": "text/x-python",
   "name": "python",
   "nbconvert_exporter": "python",
   "pygments_lexer": "ipython3",
   "version": "3.7.0"
  }
 },
 "nbformat": 4,
 "nbformat_minor": 2
}
